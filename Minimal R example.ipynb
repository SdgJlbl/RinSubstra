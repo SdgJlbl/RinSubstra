{
 "cells": [
  {
   "cell_type": "code",
   "execution_count": 1,
   "id": "695ddc71",
   "metadata": {},
   "outputs": [],
   "source": [
    "import substra\n",
    "import sh\n",
    "import pathlib\n",
    "import zipfile"
   ]
  },
  {
   "cell_type": "code",
   "execution_count": 2,
   "id": "0dd50ac4",
   "metadata": {},
   "outputs": [],
   "source": [
    "client = substra.Client(backend_type=\"docker\")\n",
    "permissions = substra.schemas.Permissions(public=True, authorized_ids=[])"
   ]
  },
  {
   "cell_type": "code",
   "execution_count": 3,
   "id": "9ec9c6a5",
   "metadata": {},
   "outputs": [],
   "source": [
    "dataset = substra.schemas.DatasetSpec(\n",
    "    name=f\"My dataset\",\n",
    "    type=\"txt\",\n",
    "    data_opener= \"dataset/opener.py\",\n",
    "    description= \"dataset/description.md\",\n",
    "    permissions=permissions,\n",
    "    logs_permission=permissions,\n",
    ")\n",
    "dataset_key = client.add_dataset(dataset)"
   ]
  },
  {
   "cell_type": "code",
   "execution_count": 4,
   "id": "d7cfdf42",
   "metadata": {},
   "outputs": [],
   "source": [
    "data_sample = substra.schemas.DataSampleSpec(\n",
    "    data_manager_keys=[dataset_key],\n",
    "    test_only=False,\n",
    "    path=\"dataset/data\",\n",
    ")\n",
    "datasample_key = client.add_data_sample(\n",
    "    data_sample, \n",
    "    local=True\n",
    ")"
   ]
  },
  {
   "cell_type": "code",
   "execution_count": 7,
   "id": "f6d630de",
   "metadata": {},
   "outputs": [
    {
     "name": "stdout",
     "output_type": "stream",
     "text": [
      "Train algo key aaaa641e-1046-4812-9674-ec49d6bdad00\n"
     ]
    }
   ],
   "source": [
    "assets_directory = pathlib.Path(\"my_substra_files\")\n",
    "\n",
    "ALGO_TRAIN_DOCKERFILE_FILES = [\n",
    "    assets_directory / \"test.R\",\n",
    "    assets_directory / \"python_wrapper.py\",\n",
    "    assets_directory / \"Dockerfile\",\n",
    "]\n",
    "\n",
    "train_archive_path = assets_directory / \"algo.zip\"\n",
    "with zipfile.ZipFile(train_archive_path, \"w\") as z:\n",
    "    for filepath in ALGO_TRAIN_DOCKERFILE_FILES:\n",
    "        z.write(filepath, arcname=filepath.name)\n",
    "\n",
    "train_algo_inputs = [\n",
    "    substra.schemas.AlgoInputSpec(\n",
    "        identifier=\"datasamples\", \n",
    "        kind=substra.schemas.AssetKind.data_sample, \n",
    "        optional=False, \n",
    "        multiple=True),\n",
    "    substra.schemas.AlgoInputSpec(\n",
    "        identifier=\"opener\", \n",
    "        kind=substra.schemas.AssetKind.data_manager, \n",
    "        optional=False, \n",
    "        multiple=False),\n",
    "]\n",
    "train_algo_outputs = [\n",
    "    substra.schemas.AlgoOutputSpec(identifier=\"model\", kind=substra.schemas.AssetKind.model, multiple=False)\n",
    "]\n",
    "\n",
    "train_algo = substra.schemas.AlgoSpec(\n",
    "    name=\"Run R script\",\n",
    "    inputs=train_algo_inputs,\n",
    "    outputs=train_algo_outputs,\n",
    "    description=assets_directory / \"description.md\",\n",
    "    file=train_archive_path,\n",
    "    permissions=permissions,\n",
    ")\n",
    "\n",
    "\n",
    "train_algo_key = client.add_algo(train_algo)\n",
    "\n",
    "print(f\"Train algo key {train_algo_key}\")"
   ]
  },
  {
   "cell_type": "code",
   "execution_count": 6,
   "id": "b8fa2134",
   "metadata": {
    "scrolled": false
   },
   "outputs": [
    {
     "name": "stdout",
     "output_type": "stream",
     "text": [
      "Train task key baf1c4de-7c8d-4029-abee-9428379908de\n"
     ]
    }
   ],
   "source": [
    "train_task = substra.schemas.TaskSpec(\n",
    "    algo_key=train_algo_key,\n",
    "    inputs=[\n",
    "        substra.schemas.InputRef(identifier=\"opener\", asset_key=dataset_key),\n",
    "        substra.schemas.InputRef(identifier=\"datasamples\", asset_key=datasample_key),\n",
    "    ],\n",
    "    outputs={\"model\": substra.schemas.ComputeTaskOutputSpec(permissions=permissions)},\n",
    "    worker=client.organization_info().organization_id,\n",
    ")\n",
    "\n",
    "train_task_key = client.add_task(train_task)\n",
    "\n",
    "print(f\"Train task key {train_task_key}\")"
   ]
  },
  {
   "cell_type": "code",
   "execution_count": 7,
   "id": "aa28ada6",
   "metadata": {},
   "outputs": [
    {
     "name": "stdout",
     "output_type": "stream",
     "text": [
      "Status.done\n"
     ]
    }
   ],
   "source": [
    "task = client.get_task(train_task_key)\n",
    "print(task.status)"
   ]
  },
  {
   "cell_type": "code",
   "execution_count": 8,
   "id": "5593d3a5",
   "metadata": {},
   "outputs": [
    {
     "name": "stdout",
     "output_type": "stream",
     "text": [
      "42\n"
     ]
    }
   ],
   "source": [
    "import pickle\n",
    "with open (client.download_model_from_task(train_task_key, \"model\", \".\"), 'rb') as f:\n",
    "    print(pickle.load(f))"
   ]
  },
  {
   "cell_type": "code",
   "execution_count": null,
   "id": "979ab4db",
   "metadata": {},
   "outputs": [],
   "source": []
  }
 ],
 "metadata": {
  "kernelspec": {
   "display_name": "Python 3 (ipykernel)",
   "language": "python",
   "name": "python3"
  },
  "language_info": {
   "codemirror_mode": {
    "name": "ipython",
    "version": 3
   },
   "file_extension": ".py",
   "mimetype": "text/x-python",
   "name": "python",
   "nbconvert_exporter": "python",
   "pygments_lexer": "ipython3",
   "version": "3.9.16"
  }
 },
 "nbformat": 4,
 "nbformat_minor": 5
}
