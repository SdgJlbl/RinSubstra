{
 "cells": [
  {
   "cell_type": "code",
   "execution_count": 1,
   "id": "695ddc71",
   "metadata": {},
   "outputs": [],
   "source": [
    "import substra\n",
    "import sh\n",
    "import pathlib\n",
    "import zipfile"
   ]
  },
  {
   "cell_type": "code",
   "execution_count": 2,
   "id": "0dd50ac4",
   "metadata": {},
   "outputs": [],
   "source": [
    "client = substra.Client(backend_type=\"docker\")\n",
    "permissions = substra.schemas.Permissions(public=True, authorized_ids=[])"
   ]
  },
  {
   "cell_type": "code",
   "execution_count": 3,
   "id": "f6d630de",
   "metadata": {},
   "outputs": [
    {
     "name": "stdout",
     "output_type": "stream",
     "text": [
      "Train algo key 4572a9a3-1920-4d4e-a7f1-4028ba569062\n"
     ]
    }
   ],
   "source": [
    "assets_directory = pathlib.Path(\"my_substra_files\")\n",
    "\n",
    "ALGO_TRAIN_DOCKERFILE_FILES = [\n",
    "    assets_directory / \"test.R\",\n",
    "    assets_directory / \"python_wrapper.py\",\n",
    "    assets_directory / \"Dockerfile\",\n",
    "]\n",
    "\n",
    "train_archive_path = assets_directory / \"algo.zip\"\n",
    "with zipfile.ZipFile(train_archive_path, \"w\") as z:\n",
    "    for filepath in ALGO_TRAIN_DOCKERFILE_FILES:\n",
    "        z.write(filepath, arcname=filepath.name)\n",
    "\n",
    "\n",
    "train_algo_outputs = [substra.schemas.AlgoOutputSpec(identifier=\"model\", kind=substra.schemas.AssetKind.model, multiple=False)]\n",
    "\n",
    "train_algo = substra.schemas.AlgoSpec(\n",
    "    name=\"Run R script\",\n",
    "    inputs=[],\n",
    "    outputs=train_algo_outputs,\n",
    "    description=assets_directory / \"description.md\",\n",
    "    file=train_archive_path,\n",
    "    permissions=permissions,\n",
    ")\n",
    "\n",
    "\n",
    "train_algo_key = client.add_algo(train_algo)\n",
    "\n",
    "print(f\"Train algo key {train_algo_key}\")"
   ]
  },
  {
   "cell_type": "code",
   "execution_count": 4,
   "id": "b8fa2134",
   "metadata": {
    "scrolled": false
   },
   "outputs": [
    {
     "name": "stdout",
     "output_type": "stream",
     "text": [
      "Train task key 3db08d66-fe37-4438-9ef7-6bea7baa86d0\n"
     ]
    }
   ],
   "source": [
    "train_task = substra.schemas.TaskSpec(\n",
    "    algo_key=train_algo_key,\n",
    "    inputs=[],\n",
    "    outputs={\"model\": substra.schemas.ComputeTaskOutputSpec(permissions=permissions)},\n",
    "    worker=client.organization_info().organization_id,\n",
    ")\n",
    "\n",
    "train_task_key = client.add_task(train_task)\n",
    "\n",
    "print(f\"Train task key {train_task_key}\")"
   ]
  },
  {
   "cell_type": "code",
   "execution_count": 5,
   "id": "aa28ada6",
   "metadata": {},
   "outputs": [
    {
     "name": "stdout",
     "output_type": "stream",
     "text": [
      "Status.done\n"
     ]
    }
   ],
   "source": [
    "task = client.get_task(train_task_key)\n",
    "print(task.status)"
   ]
  },
  {
   "cell_type": "code",
   "execution_count": 6,
   "id": "5593d3a5",
   "metadata": {},
   "outputs": [
    {
     "name": "stdout",
     "output_type": "stream",
     "text": [
      "42\n"
     ]
    }
   ],
   "source": [
    "import pickle\n",
    "with open (client.download_model_from_task(train_task_key, \"model\", \".\"), 'rb') as f:\n",
    "    print(pickle.load(f))"
   ]
  },
  {
   "cell_type": "code",
   "execution_count": null,
   "id": "52478f02",
   "metadata": {},
   "outputs": [],
   "source": []
  }
 ],
 "metadata": {
  "kernelspec": {
   "display_name": "Python 3 (ipykernel)",
   "language": "python",
   "name": "python3"
  },
  "language_info": {
   "codemirror_mode": {
    "name": "ipython",
    "version": 3
   },
   "file_extension": ".py",
   "mimetype": "text/x-python",
   "name": "python",
   "nbconvert_exporter": "python",
   "pygments_lexer": "ipython3",
   "version": "3.9.16"
  }
 },
 "nbformat": 4,
 "nbformat_minor": 5
}
